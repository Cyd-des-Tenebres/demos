{
 "cells": [
  {
   "cell_type": "code",
   "execution_count": 1,
   "id": "fc02ca6d-bfd2-4b3f-bddd-bf93248a8f81",
   "metadata": {},
   "outputs": [],
   "source": [
    "from models.pipe import HeatExchanger\n",
    "\n",
    "exchanger = HeatExchanger(\"exchanger\")\n",
    "exchanger.run_drivers()"
   ]
  },
  {
   "cell_type": "code",
   "execution_count": 2,
   "id": "e7ee1af5-2f7a-4e09-81bd-33bdc27cc8e6",
   "metadata": {},
   "outputs": [
    {
     "name": "stderr",
     "output_type": "stream",
     "text": [
      "/home/adrien/micromamba/envs/aml/lib/python3.9/site-packages/jupyter_client/session.py:716: UserWarning: Message serialization failed with:\n",
      "Out of range float values are not JSON compliant\n",
      "Supporting this message is deprecated in jupyter-client 7, please make sure your message is JSON-compliant\n",
      "  content = self.pack(content)\n"
     ]
    },
    {
     "data": {
      "application/vnd.jupyter.widget-view+json": {
       "model_id": "ddd92d40e5284674904b405ee4091573",
       "version_major": 2,
       "version_minor": 0
      },
      "text/plain": [
       "Renderer(background='pink', camera=PerspectiveCamera(aspect=1.75, children=(DirectionalLight(intensity=0.3, po…"
      ]
     },
     "metadata": {},
     "output_type": "display_data"
    }
   ],
   "source": [
    "from pythonocc_helpers.render import JupyterThreeJSRenderer\n",
    "\n",
    "render = JupyterThreeJSRenderer(view_size=(1400, 800), camera_target=(1., 1., 0.), camera_position=(1., 1., -2.))\n",
    "\n",
    "render.add_shape(exchanger.geometry.shape, uid=\"exchanger\", face_color=\"#156289\", opacity=1.)\n",
    "render.show()"
   ]
  },
  {
   "cell_type": "code",
   "execution_count": 3,
   "id": "d8ac4a4b-2802-48ad-a02f-05e0264a3283",
   "metadata": {},
   "outputs": [],
   "source": [
    "exchanger.geometry.diameter = 0.4\n",
    "exchanger.geometry.length = 10\n",
    "exchanger.geometry.depth = 1.5\n",
    "exchanger.geometry.thickness = 0.005\n",
    "exchanger.geometry.branch_count = 10\n",
    "exchanger.geometry.branch_spacing = 1.\n",
    "exchanger.run_drivers()\n",
    "\n",
    "render.update_shape(exchanger.geometry.shape, uid=\"exchanger\");"
   ]
  },
  {
   "cell_type": "code",
   "execution_count": 1,
   "id": "b66ce0a8-0047-4eb9-8e72-53e709421cdf",
   "metadata": {},
   "outputs": [],
   "source": [
    "from models.pipe import EarthToAirExchanger\n",
    "\n",
    "earth_exchanger = EarthToAirExchanger(\"exchanger\")\n",
    "earth_exchanger.run_drivers()\n",
    "\n",
    "exchanger = earth_exchanger.exchanger\n",
    "ground = earth_exchanger.ground"
   ]
  },
  {
   "cell_type": "code",
   "execution_count": 2,
   "id": "725154b2-5293-40c1-8660-8732fb101bc0",
   "metadata": {},
   "outputs": [
    {
     "name": "stderr",
     "output_type": "stream",
     "text": [
      "/home/adrien/micromamba/envs/aml/lib/python3.9/site-packages/jupyter_client/session.py:716: UserWarning: Message serialization failed with:\n",
      "Out of range float values are not JSON compliant\n",
      "Supporting this message is deprecated in jupyter-client 7, please make sure your message is JSON-compliant\n",
      "  content = self.pack(content)\n"
     ]
    },
    {
     "data": {
      "application/vnd.jupyter.widget-view+json": {
       "model_id": "cf2681cf66b8426b9439c4bd408f29ff",
       "version_major": 2,
       "version_minor": 0
      },
      "text/plain": [
       "Renderer(background='pink', camera=PerspectiveCamera(aspect=1.75, children=(DirectionalLight(intensity=0.3, po…"
      ]
     },
     "metadata": {},
     "output_type": "display_data"
    }
   ],
   "source": [
    "from pythonocc_helpers.render import JupyterThreeJSRenderer\n",
    "\n",
    "render = JupyterThreeJSRenderer(view_size=(1400, 800), camera_target=(1., 1., 0.), camera_position=(1., 1., -2.))\n",
    "\n",
    "render.add_shape(exchanger.geometry.shape, uid=\"exchanger\", face_color=\"#156289\", opacity=1.)\n",
    "render.add_shape(ground._cad_repr_(), uid=\"ground\", face_color=\"#65400c\", opacity=0.2)\n",
    "render.show()"
   ]
  },
  {
   "cell_type": "code",
   "execution_count": 9,
   "id": "7a44cd43-6abd-44be-ab19-163efcb9f0c8",
   "metadata": {},
   "outputs": [],
   "source": [
    "exchanger.geometry.diameter = 0.4\n",
    "exchanger.geometry.length = 10\n",
    "exchanger.geometry.depth = 1.5\n",
    "exchanger.geometry.thickness = 0.005\n",
    "exchanger.geometry.branch_count = 10\n",
    "exchanger.geometry.branch_spacing = 1.\n",
    "earth_exchanger.run_drivers()\n",
    "\n",
    "render.update_shape(exchanger.geometry.shape, uid=\"exchanger\")\n",
    "render.update_shape(ground._cad_repr_(1.1), uid=\"ground\");"
   ]
  },
  {
   "cell_type": "code",
   "execution_count": null,
   "id": "76830d30-56a5-42bc-aed2-b122d0c9584b",
   "metadata": {},
   "outputs": [],
   "source": []
  }
 ],
 "metadata": {
  "kernelspec": {
   "display_name": "Python 3 (ipykernel)",
   "language": "python",
   "name": "python3"
  },
  "language_info": {
   "codemirror_mode": {
    "name": "ipython",
    "version": 3
   },
   "file_extension": ".py",
   "mimetype": "text/x-python",
   "name": "python",
   "nbconvert_exporter": "python",
   "pygments_lexer": "ipython3",
   "version": "3.9.10"
  }
 },
 "nbformat": 4,
 "nbformat_minor": 5
}

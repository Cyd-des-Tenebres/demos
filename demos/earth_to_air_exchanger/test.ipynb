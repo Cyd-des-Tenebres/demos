{
 "cells": [
  {
   "cell_type": "code",
   "execution_count": null,
   "id": "85612627-ad05-4f4b-8215-126ca6a541e1",
   "metadata": {},
   "outputs": [],
   "source": [
    "from cosapp.systems import System\n",
    "\n",
    "from pythonocc_helpers.create import CreateCircle, CreateExtrusion, CreatePlane, CreateLine, CreateRevolution, CreateAxis, CreateWire, CreateTopology\n",
    "from pythonocc_helpers.transform import Sweep, Translate, Scale\n",
    "from pythonocc_helpers.render import JupyterThreeJSRenderer\n",
    "\n",
    "from OCC.Core.BRepBuilderAPI import BRepBuilderAPI_MakeFace\n",
    "\n",
    "\n",
    "def face_from_wires(plane, *wires):\n",
    "    builder = BRepBuilderAPI_MakeFace(plane)  \n",
    "    for w in wires:\n",
    "        builder.Add(CreateWire.from_element(w))\n",
    "        \n",
    "    return builder.Shape()\n",
    "\n",
    "\n",
    "class PipeGeometry(System):\n",
    "\n",
    "    def setup(self):\n",
    "        self.add_inward(\"length\", 1., unit=\"m\", desc=\"Pipe length\")\n",
    "        self.add_inward(\"diameter\", 0.1, unit=\"m\", desc=\"Pipe diameter\")\n",
    "        self.add_inward(\"thickness\", 1e-3, unit=\"m\", desc=\"Pipe thickness\")\n",
    "\n",
    "        self.add_outward(\"shape\", None, desc=\"Shape\")\n",
    "\n",
    "    def compute(self):\n",
    "        inner_radius = self.diameter / 2.\n",
    "        c1 = CreateCircle.from_radius_and_center(inner_radius, (0., 0., 0.), (1., 0., 0.))\n",
    "        c2 = CreateCircle.from_radius_and_center(inner_radius - self.thickness, (0., 0., 0.), (1., 0., 0.))\n",
    "        s = face_from_wires(CreatePlane.yoz(), c1, c2.Reversed())\n",
    "        self.shape = CreateExtrusion.surface(s, (self.length, 0., 0.))\n",
    "\n",
    "        \n",
    "class HeatExchangerGeometry(System):\n",
    "\n",
    "    def setup(self):\n",
    "        \n",
    "        self.add_child(PipeGeometry(\"pipe\"), pulling=[\"length\", \"diameter\", \"thickness\"])\n",
    "\n",
    "        self.add_inward(\"branch_count\", 1, unit=\"\", desc=\"Branch count\")\n",
    "        self.add_inward(\"branch_spacing\", 0.1, unit=\"m\", desc=\"Distance between branches\")\n",
    "        self.add_inward(\"depth\", 2.5, unit=\"m\", desc=\"Depth\")\n",
    "\n",
    "        self.add_outward(\"shape\", None, desc=\"Shape\")\n",
    "\n",
    "    def compute(self):\n",
    "        assert self.branch_spacing >= self.diameter\n",
    "\n",
    "        pipe_shape = self.pipe.shape\n",
    "        print(self.branch_count / 2)\n",
    "        pipes = [Translate.from_vector(pipe_shape, (0., -self.depth, self.branch_spacing * (i - (self.branch_count - 1) / 2)), inplace=False) for i in range(self.branch_count)]\n",
    "\n",
    "        self.shape = Scale.from_factor(CreateTopology.make_compound(*pipes), 0.1, inplace=False)\n",
    "\n",
    "\n",
    "class PipeMaterial(System):\n",
    "\n",
    "    def setup(self):\n",
    "\n",
    "        self.add_inward(\"lambda\", unit=\"J/K/m**2\", desc=\"Pipe diameter\")\n",
    "        self.add_inward(\"density\", unit=\"kg/m**3\", desc=\"Pipe density\")\n",
    "\n",
    "\n",
    "class HeatExchanger(System):\n",
    "\n",
    "    def setup(self):\n",
    "\n",
    "        self.add_child(PipeMaterial(\"material\"))\n",
    "        self.add_child(HeatExchangerGeometry(\"geometry\"))"
   ]
  },
  {
   "cell_type": "code",
   "execution_count": null,
   "id": "fc02ca6d-bfd2-4b3f-bddd-bf93248a8f81",
   "metadata": {},
   "outputs": [],
   "source": [
    "exchanger = HeatExchanger(\"exchanger\")"
   ]
  },
  {
   "cell_type": "code",
   "execution_count": null,
   "id": "e7ee1af5-2f7a-4e09-81bd-33bdc27cc8e6",
   "metadata": {},
   "outputs": [],
   "source": [
    "render = JupyterThreeJSRenderer(view_size=(1400, 800), camera_target=(1., 1., 0.), camera_position=(1., 1., -2.))\n",
    "\n",
    "render_row = render.add_shape(exchanger.geometry.shape, uid=\"exchanger\", face_color=\"#156289\", opacity=1.)\n",
    "render_row.linear_deflection = 0.15\n",
    "render_row.angular_deflection = 0.15\n",
    "render.show()"
   ]
  },
  {
   "cell_type": "code",
   "execution_count": null,
   "id": "d8ac4a4b-2802-48ad-a02f-05e0264a3283",
   "metadata": {},
   "outputs": [],
   "source": [
    "exchanger.geometry.diameter = 0.4\n",
    "exchanger.geometry.length = 20.\n",
    "exchanger.geometry.thickness = 0.004\n",
    "exchanger.geometry.branch_count = 10\n",
    "exchanger.geometry.branch_spacing = 1.2\n",
    "\n",
    "exchanger.run_drivers()\n",
    "\n",
    "render.update_shape(exchanger.geometry.shape, uid=\"exchanger\");"
   ]
  }
 ],
 "metadata": {
  "kernelspec": {
   "display_name": "Python 3 (ipykernel)",
   "language": "python",
   "name": "python3"
  },
  "language_info": {
   "codemirror_mode": {
    "name": "ipython",
    "version": 3
   },
   "file_extension": ".py",
   "mimetype": "text/x-python",
   "name": "python",
   "nbconvert_exporter": "python",
   "pygments_lexer": "ipython3",
   "version": "3.9.10"
  }
 },
 "nbformat": 4,
 "nbformat_minor": 5
}

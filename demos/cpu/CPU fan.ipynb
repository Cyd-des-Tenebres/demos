{
 "cells": [
  {
   "cell_type": "markdown",
   "id": "9737d3ac-abb5-4c54-b255-773e57c5b8a3",
   "metadata": {},
   "source": [
    "# System description\n",
    "The system is made of 4 sub systems assembly:\n",
    "- a CPU to generate thermal flow when running\n",
    "- a fan to blow fresh air on the exhanger to cool it\n",
    "- an exchangeur to dissipate the heat flow from CPU\n",
    "- a controler to decide the power level of the fan from the CPU temperature"
   ]
  },
  {
   "cell_type": "code",
   "execution_count": null,
   "id": "05aab7a7-ed84-478e-89e7-72feb2676074",
   "metadata": {},
   "outputs": [],
   "source": [
    "# get system\n",
    "from cpu.systems import CPUSystem\n",
    "cpu = CPUSystem(\"cpu\")"
   ]
  },
  {
   "cell_type": "markdown",
   "id": "7c63546c-f839-46a3-a355-8832ba12e9c0",
   "metadata": {},
   "source": [
    "## design phase\n",
    "Exchanger surface is evaluated so that maximum CPU temparature is 80°C when air temperature is 40° and CPU is running at its maximum."
   ]
  },
  {
   "cell_type": "code",
   "execution_count": null,
   "id": "1a57f20d-cb9a-4b1b-ba97-6b50d111d9ba",
   "metadata": {},
   "outputs": [],
   "source": [
    "from cosapp.drivers import NonLinearSolver\n",
    "\n",
    "design = cpu.add_driver(NonLinearSolver('solver'))\n",
    "design.extend(cpu.design_methods[\"exchanger_surface\"])\n",
    "\n",
    "design.runner.set_values({\"fan.T_air\": 40., \"T_cpu\": 80., \"cpu.usage\": 100.})\n",
    "\n",
    "# run design\n",
    "cpu.run_drivers()"
   ]
  },
  {
   "cell_type": "markdown",
   "id": "61ab092b-c82c-4e29-85f2-16c0cab965b3",
   "metadata": {},
   "source": [
    "# simulation phase\n",
    "CPU temperature is evaluated from its initial temperature, and CPU power level. "
   ]
  },
  {
   "cell_type": "code",
   "execution_count": null,
   "id": "2541e3d5-4e04-42ac-a416-c58217877dad",
   "metadata": {},
   "outputs": [],
   "source": [
    "from cosapp.drivers import RungeKutta\n",
    "\n",
    "time_driver = cpu.add_driver(RungeKutta(order=3, history = True))\n",
    "solver = time_driver.add_child(NonLinearSolver('solver', max_iter=10, factor=1.0))\n",
    "\n",
    "time_driver.time_interval = (0, 30)\n",
    "time_driver.dt = 0.5\n",
    "\n",
    "# Define a simulation scenario\n",
    "time_driver.set_scenario(\n",
    "    init = {'T_cpu': 10.},\n",
    "    values = {\n",
    "        \"fan.T_air\": 40., \n",
    "        \"cpu.usage\": 100.}\n",
    ")\n",
    "\n",
    "# identify data to store for interface viewer\n",
    "from cosapp.recorders import DataFrameRecorder\n",
    "\n",
    "rec = time_driver.add_recorder(DataFrameRecorder(includes=['T_cpu', 'cpu.power', 'cpu.usage', 'cpu.heat_flow', 'exchanger.heat_flow', 'exchanger.h', \n",
    "                                                'exchanger.surface', 'fan.tension', 'fan.fl_out.mass_flow', 'controler.T', 'controler.tension'], hold=False), period=0.5)\n",
    "\n",
    "# run design + simulation\n",
    "cpu.run_drivers()"
   ]
  },
  {
   "cell_type": "code",
   "execution_count": null,
   "id": "66e189ca-e04b-4c7c-8692-88047cd65b2d",
   "metadata": {},
   "outputs": [],
   "source": [
    "# start interface viewer\n",
    "from cosapp_lab.widgets import SysExplorer\n",
    "\n",
    "a = SysExplorer(cpu, template = \"cpu_lab.json\", anchor = \"tab-after\")"
   ]
  }
 ],
 "metadata": {
  "kernelspec": {
   "display_name": "Python 3 (ipykernel)",
   "language": "python",
   "name": "python3"
  },
  "language_info": {
   "codemirror_mode": {
    "name": "ipython",
    "version": 3
   },
   "file_extension": ".py",
   "mimetype": "text/x-python",
   "name": "python",
   "nbconvert_exporter": "python",
   "pygments_lexer": "ipython3",
   "version": "3.9.12"
  },
  "toc-showcode": false
 },
 "nbformat": 4,
 "nbformat_minor": 5
}

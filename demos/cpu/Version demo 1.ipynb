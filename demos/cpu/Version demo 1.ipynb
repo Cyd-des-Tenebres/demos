{
 "cells": [
  {
   "cell_type": "markdown",
   "id": "69f5abcf-cc70-41e2-929e-4d54f72e09d6",
   "metadata": {},
   "source": [
    "Import packages"
   ]
  },
  {
   "cell_type": "code",
   "execution_count": null,
   "id": "eb5747fd-157c-41f8-99db-99aaa4b46e0c",
   "metadata": {},
   "outputs": [],
   "source": [
    "import numpy as np\n",
    "import pandas as pd\n",
    "from sklearn.neural_network import MLPClassifier\n",
    "import matplotlib.pyplot as plt\n",
    "import random as rd\n",
    "rd.seed(9)"
   ]
  },
  {
   "cell_type": "markdown",
   "id": "f309ffc4-66a0-48d5-9946-989d888cdc0f",
   "metadata": {},
   "source": [
    "Import datasets"
   ]
  },
  {
   "cell_type": "code",
   "execution_count": null,
   "id": "e093e808-93d3-4921-9b35-258a9777cb9e",
   "metadata": {},
   "outputs": [],
   "source": [
    "dataset=pd.read_csv(f\"Dataset 999 cases, 20% broken\")\n",
    "testset=pd.read_csv(f\"Test set 1000 cases, 20% broken\")"
   ]
  },
  {
   "cell_type": "markdown",
   "id": "e949bfac-a286-45df-bb3f-6f6dd65a5cd5",
   "metadata": {},
   "source": [
    "Clear datasets and create "
   ]
  },
  {
   "cell_type": "code",
   "execution_count": null,
   "id": "0c5a0037-ce54-44c5-a52d-c56a7ffbbb7e",
   "metadata": {},
   "outputs": [],
   "source": [
    "dataset=dataset.drop(\"Unnamed: 0\", axis='columns')\n",
    "testset=testset.drop(\"Unnamed: 0\", axis='columns')\n",
    "\n",
    "Xtrain=dataset.drop(\"working\", axis=\"columns\")\n",
    "Xmean=Xtrain.mean()\n",
    "Xstd=Xtrain.std()\n",
    "Xtrain=(Xtrain-Xmean)/Xstd\n",
    "Xtrain=Xtrain.fillna(0.)\n",
    "ytrain=dataset.drop([\"T_cpu\", \"fan.T_air\", \"fan.tension\"], axis=\"columns\")\n",
    "Xtrain=Xtrain.to_numpy()\n",
    "ytrain=ytrain.to_numpy().ravel()\n",
    "\n",
    "Xtest=testset.drop(\"working\", axis=\"columns\")\n",
    "ytest=testset.drop([\"T_cpu\", \"fan.T_air\", \"fan.tension\"], axis=\"columns\")\n",
    "Xtest=(Xtest-Xmean)/Xstd\n",
    "Xtest=Xtest.fillna(0)\n",
    "Xtest=Xtest.to_numpy()\n",
    "ytest=ytest.to_numpy().ravel()"
   ]
  },
  {
   "cell_type": "markdown",
   "id": "0d7750f9-c62f-4ce6-8320-e06db67c5f3c",
   "metadata": {},
   "source": [
    "Create and train the neural network"
   ]
  },
  {
   "cell_type": "code",
   "execution_count": null,
   "id": "740a8ecb-e3ed-47bd-b028-f9c4c73876d3",
   "metadata": {},
   "outputs": [],
   "source": [
    "neuralNetwork = MLPClassifier(solver='sgd', alpha=1e-5, hidden_layer_sizes=(10, 10, 10, 10), random_state=1, verbose=True, shuffle=True)\n",
    "neuralNetwork.fit(Xtrain, ytrain)"
   ]
  },
  {
   "cell_type": "markdown",
   "id": "70c5f34c-c24a-47e9-b95d-4e2fb1c5c575",
   "metadata": {},
   "source": [
    "Data gathering"
   ]
  },
  {
   "cell_type": "code",
   "execution_count": null,
   "id": "23c467ab-95f4-4671-bf4d-52d27794fda4",
   "metadata": {},
   "outputs": [],
   "source": [
    "resultTest=neuralNetwork.predict(Xtest)\n",
    "probas=neuralNetwork.predict_proba(Xtest)\n",
    "probasDelta=[]\n",
    "for k in range(len(probas)):\n",
    "    probasDelta.append(abs(probas[k][0]-probas[k][1]))"
   ]
  },
  {
   "cell_type": "code",
   "execution_count": null,
   "id": "157530de-9d59-40e2-9cbc-93df47c456b4",
   "metadata": {},
   "outputs": [],
   "source": [
    "maskTrue=testset[\"working\"]==True\n",
    "maskFalse=testset[\"working\"]==False"
   ]
  },
  {
   "cell_type": "code",
   "execution_count": null,
   "id": "bf57b6c4-41ec-4f80-ab5e-6301d73caaeb",
   "metadata": {},
   "outputs": [],
   "source": [
    "np.median(probas[maskFalse][:,0]), probas[maskFalse][:,0].mean(), probas[maskFalse][:,0].std(), np.min(probas[maskFalse][:,0]), np.max(probas[maskFalse][:,0])"
   ]
  },
  {
   "cell_type": "code",
   "execution_count": null,
   "id": "2d62a673-0156-42b5-8698-222dd452bfc6",
   "metadata": {},
   "outputs": [],
   "source": [
    "np.median(probas[maskTrue][:,1]), probas[maskTrue][:,1].mean(), probas[maskTrue][:,1].std(), np.min(probas[maskTrue][:,1]), np.max(probas[maskTrue][:,1])"
   ]
  },
  {
   "cell_type": "code",
   "execution_count": null,
   "id": "5fc3d544-5b4f-487c-ac40-192ef587b822",
   "metadata": {},
   "outputs": [],
   "source": [
    "probas"
   ]
  },
  {
   "cell_type": "code",
   "execution_count": null,
   "id": "df552dd1-23b4-49d4-a6cc-7f1535845770",
   "metadata": {},
   "outputs": [],
   "source": [
    "neuralNetwork.score(Xtest, ytest)"
   ]
  },
  {
   "cell_type": "code",
   "execution_count": null,
   "id": "f89b1a0c-11ea-41ac-9fa5-576bcb5aeeb2",
   "metadata": {},
   "outputs": [],
   "source": [
    "min(dataset[\"fan.T_air\"]), max(dataset[\"fan.T_air\"]), min(testset[\"fan.T_air\"]), max(testset[\"fan.T_air\"])"
   ]
  },
  {
   "cell_type": "code",
   "execution_count": null,
   "id": "a915ce48-594d-4d7b-9f04-4feb4f1f8ed8",
   "metadata": {},
   "outputs": [],
   "source": [
    "plt.scatter(testset[maskFalse][\"fan.T_air\"], probas[maskFalse][:,0])"
   ]
  },
  {
   "cell_type": "code",
   "execution_count": null,
   "id": "8fedb9ea-aacc-4bc9-812c-e5946c2fd961",
   "metadata": {},
   "outputs": [],
   "source": [
    "plt.scatter(testset[maskTrue][\"fan.T_air\"], probas[maskTrue][:,1])"
   ]
  },
  {
   "cell_type": "code",
   "execution_count": null,
   "id": "20fbe796-71d5-4e6a-8f56-b2b55f2193e0",
   "metadata": {},
   "outputs": [],
   "source": [
    "plt.boxplot(probas[maskTrue][:,1])"
   ]
  },
  {
   "cell_type": "code",
   "execution_count": null,
   "id": "9ac0d4cd-d8f2-44a6-a0ba-dbc332e8032a",
   "metadata": {},
   "outputs": [],
   "source": []
  }
 ],
 "metadata": {
  "kernelspec": {
   "display_name": "Python 3 (ipykernel)",
   "language": "python",
   "name": "python3"
  },
  "language_info": {
   "codemirror_mode": {
    "name": "ipython",
    "version": 3
   },
   "file_extension": ".py",
   "mimetype": "text/x-python",
   "name": "python",
   "nbconvert_exporter": "python",
   "pygments_lexer": "ipython3",
   "version": "3.9.12"
  }
 },
 "nbformat": 4,
 "nbformat_minor": 5
}

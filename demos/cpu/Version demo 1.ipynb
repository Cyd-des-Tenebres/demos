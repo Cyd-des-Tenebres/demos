{
 "cells": [
  {
   "cell_type": "markdown",
   "id": "69f5abcf-cc70-41e2-929e-4d54f72e09d6",
   "metadata": {},
   "source": [
    "Import packages"
   ]
  },
  {
   "cell_type": "code",
   "execution_count": 1,
   "id": "eb5747fd-157c-41f8-99db-99aaa4b46e0c",
   "metadata": {},
   "outputs": [],
   "source": [
    "import numpy as np\n",
    "import pandas as pd\n",
    "from sklearn.neural_network import MLPClassifier\n",
    "import matplotlib.pyplot as plt\n",
    "import random as rd\n",
    "rd.seed(9)"
   ]
  },
  {
   "cell_type": "markdown",
   "id": "f309ffc4-66a0-48d5-9946-989d888cdc0f",
   "metadata": {},
   "source": [
    "Import datasets"
   ]
  },
  {
   "cell_type": "code",
   "execution_count": 2,
   "id": "e093e808-93d3-4921-9b35-258a9777cb9e",
   "metadata": {},
   "outputs": [],
   "source": [
    "dataset=pd.read_csv(f\"Dataset 999 cases, 20% broken\")\n",
    "testset=pd.read_csv(f\"Test set 1000 cases, 20% broken\")"
   ]
  },
  {
   "cell_type": "markdown",
   "id": "e949bfac-a286-45df-bb3f-6f6dd65a5cd5",
   "metadata": {},
   "source": [
    "Clear datasets and create "
   ]
  },
  {
   "cell_type": "code",
   "execution_count": 3,
   "id": "0c5a0037-ce54-44c5-a52d-c56a7ffbbb7e",
   "metadata": {},
   "outputs": [],
   "source": [
    "dataset=dataset.drop(\"Unnamed: 0\", axis='columns')\n",
    "testset=testset.drop(\"Unnamed: 0\", axis='columns')\n",
    "\n",
    "Xtrain=dataset.drop(\"working\", axis=\"columns\")\n",
    "Xmean=Xtrain.mean()\n",
    "Xstd=Xtrain.std()\n",
    "Xtrain=(Xtrain-Xmean)/Xstd\n",
    "Xtrain=Xtrain.fillna(0.)\n",
    "ytrain=dataset.drop([\"T_cpu\", \"fan.T_air\", \"fan.tension\"], axis=\"columns\")\n",
    "Xtrain=Xtrain.to_numpy()\n",
    "ytrain=ytrain.to_numpy().ravel()\n",
    "\n",
    "Xtest=testset.drop(\"working\", axis=\"columns\")\n",
    "ytest=testset.drop([\"T_cpu\", \"fan.T_air\", \"fan.tension\"], axis=\"columns\")\n",
    "Xtest=(Xtest-Xmean)/Xstd\n",
    "Xtest=Xtest.fillna(0)\n",
    "Xtest=Xtest.to_numpy()\n",
    "ytest=ytest.to_numpy().ravel()"
   ]
  },
  {
   "cell_type": "markdown",
   "id": "0d7750f9-c62f-4ce6-8320-e06db67c5f3c",
   "metadata": {},
   "source": [
    "Create and train the neural network"
   ]
  },
  {
   "cell_type": "code",
   "execution_count": 4,
   "id": "740a8ecb-e3ed-47bd-b028-f9c4c73876d3",
   "metadata": {},
   "outputs": [
    {
     "name": "stdout",
     "output_type": "stream",
     "text": [
      "Iteration 1, loss = 1.06451032\n",
      "Iteration 2, loss = 0.98051419\n",
      "Iteration 3, loss = 0.87864709\n",
      "Iteration 4, loss = 0.78102545\n",
      "Iteration 5, loss = 0.69984114\n",
      "Iteration 6, loss = 0.63440265\n",
      "Iteration 7, loss = 0.58402459\n",
      "Iteration 8, loss = 0.54585454\n",
      "Iteration 9, loss = 0.51631973\n",
      "Iteration 10, loss = 0.49270210\n",
      "Iteration 11, loss = 0.47264671\n",
      "Iteration 12, loss = 0.45586240\n",
      "Iteration 13, loss = 0.44112806\n",
      "Iteration 14, loss = 0.42796093\n",
      "Iteration 15, loss = 0.41631340\n",
      "Iteration 16, loss = 0.40562864\n",
      "Iteration 17, loss = 0.39595540\n",
      "Iteration 18, loss = 0.38708886\n",
      "Iteration 19, loss = 0.37861920\n",
      "Iteration 20, loss = 0.37059436\n",
      "Iteration 21, loss = 0.36291725\n",
      "Iteration 22, loss = 0.35571010\n",
      "Iteration 23, loss = 0.34878971\n",
      "Iteration 24, loss = 0.34206057\n",
      "Iteration 25, loss = 0.33553391\n",
      "Iteration 26, loss = 0.32910040\n",
      "Iteration 27, loss = 0.32279392\n",
      "Iteration 28, loss = 0.31658425\n",
      "Iteration 29, loss = 0.31061397\n",
      "Iteration 30, loss = 0.30489785\n",
      "Iteration 31, loss = 0.29929745\n",
      "Iteration 32, loss = 0.29387082\n",
      "Iteration 33, loss = 0.28855558\n",
      "Iteration 34, loss = 0.28329482\n",
      "Iteration 35, loss = 0.27807614\n",
      "Iteration 36, loss = 0.27301017\n",
      "Iteration 37, loss = 0.26799497\n",
      "Iteration 38, loss = 0.26298089\n",
      "Iteration 39, loss = 0.25808421\n",
      "Iteration 40, loss = 0.25327038\n",
      "Iteration 41, loss = 0.24845646\n",
      "Iteration 42, loss = 0.24376732\n",
      "Iteration 43, loss = 0.23907841\n",
      "Iteration 44, loss = 0.23454606\n",
      "Iteration 45, loss = 0.22995639\n",
      "Iteration 46, loss = 0.22549577\n",
      "Iteration 47, loss = 0.22120606\n",
      "Iteration 48, loss = 0.21692808\n",
      "Iteration 49, loss = 0.21277646\n",
      "Iteration 50, loss = 0.20864737\n",
      "Iteration 51, loss = 0.20464888\n",
      "Iteration 52, loss = 0.20071640\n",
      "Iteration 53, loss = 0.19686422\n",
      "Iteration 54, loss = 0.19301090\n",
      "Iteration 55, loss = 0.18920112\n",
      "Iteration 56, loss = 0.18554690\n",
      "Iteration 57, loss = 0.18186814\n",
      "Iteration 58, loss = 0.17832988\n",
      "Iteration 59, loss = 0.17473284\n",
      "Iteration 60, loss = 0.17122723\n",
      "Iteration 61, loss = 0.16782504\n",
      "Iteration 62, loss = 0.16438521\n",
      "Iteration 63, loss = 0.16105052\n",
      "Iteration 64, loss = 0.15774227\n",
      "Iteration 65, loss = 0.15454271\n",
      "Iteration 66, loss = 0.15121679\n",
      "Iteration 67, loss = 0.14804389\n",
      "Iteration 68, loss = 0.14503454\n",
      "Iteration 69, loss = 0.14210525\n",
      "Iteration 70, loss = 0.13929557\n",
      "Iteration 71, loss = 0.13655372\n",
      "Iteration 72, loss = 0.13388584\n",
      "Iteration 73, loss = 0.13132009\n",
      "Iteration 74, loss = 0.12877755\n",
      "Iteration 75, loss = 0.12631093\n",
      "Iteration 76, loss = 0.12382451\n",
      "Iteration 77, loss = 0.12144960\n",
      "Iteration 78, loss = 0.11906504\n",
      "Iteration 79, loss = 0.11681665\n",
      "Iteration 80, loss = 0.11456229\n",
      "Iteration 81, loss = 0.11244924\n",
      "Iteration 82, loss = 0.11034469\n",
      "Iteration 83, loss = 0.10826613\n",
      "Iteration 84, loss = 0.10623518\n",
      "Iteration 85, loss = 0.10427107\n",
      "Iteration 86, loss = 0.10228564\n",
      "Iteration 87, loss = 0.10039994\n",
      "Iteration 88, loss = 0.09852868\n",
      "Iteration 89, loss = 0.09668090\n",
      "Iteration 90, loss = 0.09488151\n",
      "Iteration 91, loss = 0.09308961\n",
      "Iteration 92, loss = 0.09135559\n",
      "Iteration 93, loss = 0.08962944\n",
      "Iteration 94, loss = 0.08793420\n",
      "Iteration 95, loss = 0.08628331\n",
      "Iteration 96, loss = 0.08464999\n",
      "Iteration 97, loss = 0.08303609\n",
      "Iteration 98, loss = 0.08147406\n",
      "Iteration 99, loss = 0.07992001\n",
      "Iteration 100, loss = 0.07841764\n",
      "Iteration 101, loss = 0.07694785\n",
      "Iteration 102, loss = 0.07548745\n",
      "Iteration 103, loss = 0.07407562\n",
      "Iteration 104, loss = 0.07268499\n",
      "Iteration 105, loss = 0.07134264\n",
      "Iteration 106, loss = 0.07005001\n",
      "Iteration 107, loss = 0.06873352\n",
      "Iteration 108, loss = 0.06748894\n",
      "Iteration 109, loss = 0.06625214\n",
      "Iteration 110, loss = 0.06503844\n",
      "Iteration 111, loss = 0.06380653\n",
      "Iteration 112, loss = 0.06261383\n",
      "Iteration 113, loss = 0.06140223\n",
      "Iteration 114, loss = 0.06022762\n",
      "Iteration 115, loss = 0.05906478\n",
      "Iteration 116, loss = 0.05791187\n",
      "Iteration 117, loss = 0.05677432\n",
      "Iteration 118, loss = 0.05564871\n",
      "Iteration 119, loss = 0.05455315\n",
      "Iteration 120, loss = 0.05345796\n",
      "Iteration 121, loss = 0.05235249\n",
      "Iteration 122, loss = 0.05126853\n",
      "Iteration 123, loss = 0.05019926\n",
      "Iteration 124, loss = 0.04917543\n",
      "Iteration 125, loss = 0.04818230\n",
      "Iteration 126, loss = 0.04721214\n",
      "Iteration 127, loss = 0.04626726\n",
      "Iteration 128, loss = 0.04534123\n",
      "Iteration 129, loss = 0.04446542\n",
      "Iteration 130, loss = 0.04360571\n",
      "Iteration 131, loss = 0.04276463\n",
      "Iteration 132, loss = 0.04196858\n",
      "Iteration 133, loss = 0.04116530\n",
      "Iteration 134, loss = 0.04039641\n",
      "Iteration 135, loss = 0.03964135\n",
      "Iteration 136, loss = 0.03891724\n",
      "Iteration 137, loss = 0.03821212\n",
      "Iteration 138, loss = 0.03751159\n",
      "Iteration 139, loss = 0.03684259\n",
      "Iteration 140, loss = 0.03617064\n",
      "Iteration 141, loss = 0.03554481\n",
      "Iteration 142, loss = 0.03491955\n",
      "Iteration 143, loss = 0.03429189\n",
      "Iteration 144, loss = 0.03371542\n",
      "Iteration 145, loss = 0.03313624\n",
      "Iteration 146, loss = 0.03257379\n",
      "Iteration 147, loss = 0.03201356\n",
      "Iteration 148, loss = 0.03147547\n",
      "Iteration 149, loss = 0.03097365\n",
      "Iteration 150, loss = 0.03048836\n",
      "Iteration 151, loss = 0.03003312\n",
      "Iteration 152, loss = 0.02959903\n",
      "Iteration 153, loss = 0.02918288\n",
      "Iteration 154, loss = 0.02878643\n",
      "Iteration 155, loss = 0.02839142\n",
      "Iteration 156, loss = 0.02801255\n",
      "Iteration 157, loss = 0.02764357\n",
      "Iteration 158, loss = 0.02727668\n",
      "Iteration 159, loss = 0.02692064\n",
      "Iteration 160, loss = 0.02657619\n",
      "Iteration 161, loss = 0.02623210\n",
      "Iteration 162, loss = 0.02589705\n",
      "Iteration 163, loss = 0.02556876\n",
      "Iteration 164, loss = 0.02524699\n",
      "Iteration 165, loss = 0.02493751\n",
      "Iteration 166, loss = 0.02462713\n",
      "Iteration 167, loss = 0.02432638\n",
      "Iteration 168, loss = 0.02402749\n",
      "Iteration 169, loss = 0.02374448\n",
      "Iteration 170, loss = 0.02345333\n",
      "Iteration 171, loss = 0.02318163\n",
      "Iteration 172, loss = 0.02290917\n",
      "Iteration 173, loss = 0.02264138\n",
      "Iteration 174, loss = 0.02238019\n",
      "Iteration 175, loss = 0.02211645\n",
      "Iteration 176, loss = 0.02186402\n",
      "Iteration 177, loss = 0.02162005\n",
      "Iteration 178, loss = 0.02137425\n",
      "Iteration 179, loss = 0.02113643\n",
      "Iteration 180, loss = 0.02089679\n",
      "Iteration 181, loss = 0.02066796\n",
      "Iteration 182, loss = 0.02044229\n",
      "Iteration 183, loss = 0.02022005\n",
      "Iteration 184, loss = 0.01999768\n",
      "Iteration 185, loss = 0.01978579\n",
      "Iteration 186, loss = 0.01957296\n",
      "Iteration 187, loss = 0.01937222\n",
      "Iteration 188, loss = 0.01916304\n",
      "Iteration 189, loss = 0.01896117\n",
      "Iteration 190, loss = 0.01876726\n",
      "Iteration 191, loss = 0.01857501\n",
      "Iteration 192, loss = 0.01838279\n",
      "Iteration 193, loss = 0.01819503\n",
      "Iteration 194, loss = 0.01801202\n",
      "Iteration 195, loss = 0.01783020\n",
      "Iteration 196, loss = 0.01765274\n",
      "Iteration 197, loss = 0.01747281\n",
      "Iteration 198, loss = 0.01730418\n",
      "Iteration 199, loss = 0.01713396\n",
      "Iteration 200, loss = 0.01696683\n"
     ]
    },
    {
     "name": "stderr",
     "output_type": "stream",
     "text": [
      "D:\\Micromamba\\envs\\stage\\lib\\site-packages\\sklearn\\neural_network\\_multilayer_perceptron.py:692: ConvergenceWarning: Stochastic Optimizer: Maximum iterations (200) reached and the optimization hasn't converged yet.\n",
      "  warnings.warn(\n"
     ]
    },
    {
     "data": {
      "text/plain": [
       "MLPClassifier(alpha=1e-05, hidden_layer_sizes=(10, 10, 10, 10), random_state=1,\n",
       "              solver='sgd', verbose=True)"
      ]
     },
     "execution_count": 4,
     "metadata": {},
     "output_type": "execute_result"
    }
   ],
   "source": [
    "neuralNetwork = MLPClassifier(solver='sgd', alpha=1e-5, hidden_layer_sizes=(10, 10, 10, 10), random_state=1, verbose=True, shuffle=True)\n",
    "neuralNetwork.fit(Xtrain, ytrain)"
   ]
  },
  {
   "cell_type": "markdown",
   "id": "70c5f34c-c24a-47e9-b95d-4e2fb1c5c575",
   "metadata": {},
   "source": [
    "Data gathering"
   ]
  },
  {
   "cell_type": "code",
   "execution_count": 5,
   "id": "23c467ab-95f4-4671-bf4d-52d27794fda4",
   "metadata": {},
   "outputs": [],
   "source": [
    "resultTest=neuralNetwork.predict(Xtest)\n",
    "probas=neuralNetwork.predict_proba(Xtest)\n",
    "probasDelta=[]\n",
    "for k in range(len(probas)):\n",
    "    probasDelta.append(abs(probas[k][0]-probas[k][1]))"
   ]
  },
  {
   "cell_type": "code",
   "execution_count": 6,
   "id": "157530de-9d59-40e2-9cbc-93df47c456b4",
   "metadata": {},
   "outputs": [],
   "source": [
    "maskTrue=testset[\"working\"]==True\n",
    "maskFalse=testset[\"working\"]==False"
   ]
  },
  {
   "cell_type": "code",
   "execution_count": 7,
   "id": "bf57b6c4-41ec-4f80-ab5e-6301d73caaeb",
   "metadata": {},
   "outputs": [
    {
     "data": {
      "text/plain": [
       "(0.9811012476517628,\n",
       " 0.9720487798274992,\n",
       " 0.016488032493468117,\n",
       " 0.9305218652174045,\n",
       " 0.9892030697164387)"
      ]
     },
     "execution_count": 7,
     "metadata": {},
     "output_type": "execute_result"
    }
   ],
   "source": [
    "np.median(probas[maskFalse][:,0]), probas[maskFalse][:,0].mean(), probas[maskFalse][:,0].std(), np.min(probas[maskFalse][:,0]), np.max(probas[maskFalse][:,0])"
   ]
  },
  {
   "cell_type": "code",
   "execution_count": 13,
   "id": "2d62a673-0156-42b5-8698-222dd452bfc6",
   "metadata": {},
   "outputs": [
    {
     "data": {
      "text/plain": [
       "(0.9981855253950355,\n",
       " 0.9856468777442228,\n",
       " 0.02661736570501551,\n",
       " 0.9212633772343817,\n",
       " 0.9998158112028251)"
      ]
     },
     "execution_count": 13,
     "metadata": {},
     "output_type": "execute_result"
    }
   ],
   "source": [
    "np.median(probas[maskTrue][:,1]), probas[maskTrue][:,1].mean(), probas[maskTrue][:,1].std(), np.min(probas[maskTrue][:,1]), np.max(probas[maskTrue][:,1])"
   ]
  },
  {
   "cell_type": "code",
   "execution_count": 8,
   "id": "5fc3d544-5b4f-487c-ac40-192ef587b822",
   "metadata": {},
   "outputs": [
    {
     "data": {
      "text/plain": [
       "array([[9.75104916e-01, 2.48950844e-02],\n",
       "       [1.84188797e-04, 9.99815811e-01],\n",
       "       [9.75039198e-01, 2.49608019e-02],\n",
       "       ...,\n",
       "       [6.96924777e-02, 9.30307522e-01],\n",
       "       [9.79931153e-01, 2.00688469e-02],\n",
       "       [6.97253639e-02, 9.30274636e-01]])"
      ]
     },
     "execution_count": 8,
     "metadata": {},
     "output_type": "execute_result"
    }
   ],
   "source": [
    "probas"
   ]
  },
  {
   "cell_type": "code",
   "execution_count": 9,
   "id": "df552dd1-23b4-49d4-a6cc-7f1535845770",
   "metadata": {},
   "outputs": [
    {
     "data": {
      "text/plain": [
       "1.0"
      ]
     },
     "execution_count": 9,
     "metadata": {},
     "output_type": "execute_result"
    }
   ],
   "source": [
    "neuralNetwork.score(Xtest, ytest)"
   ]
  },
  {
   "cell_type": "code",
   "execution_count": 10,
   "id": "f89b1a0c-11ea-41ac-9fa5-576bcb5aeeb2",
   "metadata": {},
   "outputs": [
    {
     "data": {
      "text/plain": [
       "(0.0, 30.0, 0.0, 29.97)"
      ]
     },
     "execution_count": 10,
     "metadata": {},
     "output_type": "execute_result"
    }
   ],
   "source": [
    "min(dataset[\"fan.T_air\"]), max(dataset[\"fan.T_air\"]), min(testset[\"fan.T_air\"]), max(testset[\"fan.T_air\"])"
   ]
  },
  {
   "cell_type": "code",
   "execution_count": 20,
   "id": "a915ce48-594d-4d7b-9f04-4feb4f1f8ed8",
   "metadata": {},
   "outputs": [
    {
     "data": {
      "text/plain": [
       "<matplotlib.collections.PathCollection at 0x19f73b51580>"
      ]
     },
     "execution_count": 20,
     "metadata": {},
     "output_type": "execute_result"
    },
    {
     "data": {
      "image/png": "[encoded data removed]",
      "text/plain": [
       "<Figure size 432x288 with 1 Axes>"
      ]
     },
     "metadata": {
      "needs_background": "light"
     },
     "output_type": "display_data"
    }
   ],
   "source": [
    "plt.scatter(testset[maskFalse][\"fan.T_air\"], probas[maskFalse][:,0])"
   ]
  },
  {
   "cell_type": "code",
   "execution_count": 21,
   "id": "8fedb9ea-aacc-4bc9-812c-e5946c2fd961",
   "metadata": {},
   "outputs": [
    {
     "data": {
      "text/plain": [
       "<matplotlib.collections.PathCollection at 0x19f73b9d640>"
      ]
     },
     "execution_count": 21,
     "metadata": {},
     "output_type": "execute_result"
    },
    {
     "data": {
      "image/png": "[encoded data removed]",
      "text/plain": [
       "<Figure size 432x288 with 1 Axes>"
      ]
     },
     "metadata": {
      "needs_background": "light"
     },
     "output_type": "display_data"
    }
   ],
   "source": [
    "plt.scatter(testset[maskTrue][\"fan.T_air\"], probas[maskTrue][:,1])"
   ]
  },
  {
   "cell_type": "code",
   "execution_count": 24,
   "id": "20fbe796-71d5-4e6a-8f56-b2b55f2193e0",
   "metadata": {},
   "outputs": [
    {
     "data": {
      "text/plain": [
       "{'whiskers': [<matplotlib.lines.Line2D at 0x19f73fff2e0>,\n",
       "  <matplotlib.lines.Line2D at 0x19f73fff5e0>],\n",
       " 'caps': [<matplotlib.lines.Line2D at 0x19f73fff970>,\n",
       "  <matplotlib.lines.Line2D at 0x19f73fffb80>],\n",
       " 'boxes': [<matplotlib.lines.Line2D at 0x19f73ff1fd0>],\n",
       " 'medians': [<matplotlib.lines.Line2D at 0x19f73fffe50>],\n",
       " 'fliers': [<matplotlib.lines.Line2D at 0x19f7400e160>],\n",
       " 'means': []}"
      ]
     },
     "execution_count": 24,
     "metadata": {},
     "output_type": "execute_result"
    },
    {
     "data": {
      "image/png": "[encoded data removed]",
      "text/plain": [
       "<Figure size 432x288 with 1 Axes>"
      ]
     },
     "metadata": {
      "needs_background": "light"
     },
     "output_type": "display_data"
    }
   ],
   "source": [
    "plt.boxplot(probas[maskTrue][:,1])"
   ]
  },
  {
   "cell_type": "code",
   "execution_count": null,
   "id": "9ac0d4cd-d8f2-44a6-a0ba-dbc332e8032a",
   "metadata": {},
   "outputs": [],
   "source": []
  }
 ],
 "metadata": {
  "kernelspec": {
   "display_name": "Python 3 (ipykernel)",
   "language": "python",
   "name": "python3"
  },
  "language_info": {
   "codemirror_mode": {
    "name": "ipython",
    "version": 3
   },
   "file_extension": ".py",
   "mimetype": "text/x-python",
   "name": "python",
   "nbconvert_exporter": "python",
   "pygments_lexer": "ipython3",
   "version": "3.9.12"
  }
 },
 "nbformat": 4,
 "nbformat_minor": 5
}

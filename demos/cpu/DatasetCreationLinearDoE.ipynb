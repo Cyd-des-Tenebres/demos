{
 "cells": [
  {
   "cell_type": "markdown",
   "id": "a0e7243c-637f-4267-b989-5cc22d0e5f96",
   "metadata": {
    "tags": []
   },
   "source": [
    "# Creation of a dataset"
   ]
  },
  {
   "cell_type": "code",
   "execution_count": null,
   "id": "c300cb82-d5cf-4f58-ad8a-f2bcd9a7f41a",
   "metadata": {},
   "outputs": [],
   "source": [
    "import random as rd\n",
    "import pandas as pd\n",
    "\n",
    "from cosapp.drivers import NonLinearSolver, RungeKutta, MonteCarlo, LinearDoE, RunSingleCase\n",
    "from cosapp.utils.distributions import Normal\n",
    "from cosapp.recorders import DataFrameRecorder\n",
    "from cosapp_lab.widgets import SysExplorer\n",
    "from time import time\n",
    "\n",
    "from cpu.systems import CPUSystem"
   ]
  },
  {
   "cell_type": "markdown",
   "id": "43a6275c-adce-4326-ade0-e77b49ccbb41",
   "metadata": {},
   "source": [
    "Selection of the parameters to create the dataset:\n",
    "- sampleNumbers: number of samples created with cpu\n",
    "- datasetSize: size of the dataset use for training\n",
    "- percentageBroken: percentage of broken samples\n",
    "- end: end of the file name, can be \"\" if there is nothing to add"
   ]
  },
  {
   "cell_type": "code",
   "execution_count": null,
   "id": "eefe8183-3ea1-491e-b649-74a99db0da0b",
   "metadata": {},
   "outputs": [],
   "source": [
    "sampleNumbers = 10001\n",
    "datasetSize = 10000\n",
    "percentageBroken = 50\n",
    "end = \"\"\n",
    "rd.seed(9)"
   ]
  },
  {
   "cell_type": "markdown",
   "id": "b947ec01-27b8-4b60-8f97-961bab7ee74e",
   "metadata": {
    "tags": []
   },
   "source": [
    "# Creation of the cpu and its drivers"
   ]
  },
  {
   "cell_type": "markdown",
   "id": "ba863904-391a-46ac-bd13-fd602e94e4cb",
   "metadata": {},
   "source": [
    "Creation of the CPU."
   ]
  },
  {
   "cell_type": "code",
   "execution_count": null,
   "id": "8a44c17f-5ffc-4d08-aff1-97022a088d12",
   "metadata": {},
   "outputs": [],
   "source": [
    "cpu = CPUSystem(\"cpu\")\n",
    "cpu.fan.mass_flow_scalar=1.\n",
    "\n",
    "design = cpu.add_driver(NonLinearSolver('solver'))\n",
    "design.extend(cpu.design_methods[\"exchanger_surface\"])\n",
    "\n",
    "design.runner.set_values({\"fan.T_air\": 40., \"T_cpu\": 80., \"cpu.usage\": 100.})\n",
    "\n",
    "# run design\n",
    "cpu.run_drivers()"
   ]
  },
  {
   "cell_type": "markdown",
   "id": "6b306b4f-7719-426f-a5a6-ca243a45072d",
   "metadata": {},
   "source": [
    "To create the dataset we use a linear DoE so we add a driver to the CPU."
   ]
  },
  {
   "cell_type": "code",
   "execution_count": null,
   "id": "c77395e3-4764-4ceb-971a-26c614656583",
   "metadata": {},
   "outputs": [],
   "source": [
    "doe = cpu.add_driver(LinearDoE('doe'))"
   ]
  },
  {
   "cell_type": "markdown",
   "id": "197b26b8-e543-42e7-b85c-9d3000b4e46b",
   "metadata": {},
   "source": [
    "To run the CPU we need a time driver, so we add a child to the doe and give it an interval and a time delta between each point."
   ]
  },
  {
   "cell_type": "code",
   "execution_count": null,
   "id": "2f29e53c-bbbb-470e-88e5-a914e81530ce",
   "metadata": {
    "tags": []
   },
   "outputs": [],
   "source": [
    "time_driver = doe.add_child(RungeKutta(order=3, history = True))\n",
    "solver = time_driver.add_child(NonLinearSolver('solver', max_iter=10, factor=1.0))\n",
    "time_driver.time_interval = ([0, 30])\n",
    "time_driver.dt = 0.5\n",
    "\n",
    "# Define a simulation scenario\n",
    "time_driver.set_scenario(\n",
    "    init = {'T_cpu': 30,\n",
    "           'fan.mass_flow_scalar':1.\n",
    "           },\n",
    "    values = {\n",
    "        #\"fan.T_air\": 40., mettre en commentaire !!! sinon remet à zéro quand on appelle time_driver\n",
    "        \"cpu.usage\": \"100 if time <20 else 0.\"}\n",
    ")"
   ]
  },
  {
   "cell_type": "markdown",
   "id": "296f0df2-8a19-4a6d-97e8-733c58962876",
   "metadata": {},
   "source": [
    "This is to create a number of samples, choosen earlier, between 0 and 30 °C."
   ]
  },
  {
   "cell_type": "code",
   "execution_count": null,
   "id": "5f60cfff-f444-48df-9c91-c895d833c778",
   "metadata": {},
   "outputs": [],
   "source": [
    "doe.add_input_var({'fan.T_air': {\"lower\": 0., \"upper\": 30., \"count\": sampleNumbers}})"
   ]
  },
  {
   "cell_type": "code",
   "execution_count": null,
   "id": "601091d5-faa3-4dd8-b63f-4c2c6d3bfcab",
   "metadata": {},
   "outputs": [],
   "source": [
    "doe.add_recorder(DataFrameRecorder(includes=['fan.tension', 'cpu.usage', 'T_cpu', 'fan.T_air', \"exchanger.surface\"]))"
   ]
  },
  {
   "cell_type": "code",
   "execution_count": null,
   "id": "1ea95163-3c1f-480c-8384-2a15836923fd",
   "metadata": {},
   "outputs": [],
   "source": [
    "cpu.run_drivers()"
   ]
  },
  {
   "cell_type": "markdown",
   "id": "266adc0e-96ae-4a37-ab89-f5dc494f14a1",
   "metadata": {
    "tags": []
   },
   "source": [
    "# Dataset creation"
   ]
  },
  {
   "cell_type": "markdown",
   "id": "9c7e02a0-696e-4089-9da9-346a8deaf2a9",
   "metadata": {
    "tags": []
   },
   "source": [
    "## Train set data creation"
   ]
  },
  {
   "cell_type": "markdown",
   "id": "e265509f-f23e-423f-9042-9edca7f8d7af",
   "metadata": {},
   "source": [
    "We create a dataset with only data of a working CPU first."
   ]
  },
  {
   "cell_type": "code",
   "execution_count": null,
   "id": "e7a4e20f-3e92-4f0f-97b2-cd3fba28c1dd",
   "metadata": {},
   "outputs": [],
   "source": [
    "dfW = doe.recorder.data"
   ]
  },
  {
   "cell_type": "code",
   "execution_count": null,
   "id": "c4fb1402-70e7-4e19-8f70-27b93185d467",
   "metadata": {},
   "outputs": [],
   "source": [
    "working = [True for k in range(len(df))]"
   ]
  },
  {
   "cell_type": "code",
   "execution_count": null,
   "id": "ed134ffd-cb54-4e2f-a763-0a117cfefbd2",
   "metadata": {},
   "outputs": [],
   "source": [
    "dfW = dfW.assign(working=working)"
   ]
  },
  {
   "cell_type": "markdown",
   "id": "1bf514ea-cf85-483b-be5f-9aa14923a8c2",
   "metadata": {
    "tags": []
   },
   "source": [
    "## Test set data creation"
   ]
  },
  {
   "cell_type": "markdown",
   "id": "c628256a-d9a0-4b61-8066-afe5572e9278",
   "metadata": {},
   "source": [
    "We now create the dysfunctional CPU. In this case it is dysfunctional when it has no way to create an air flow so put the value of fan.mass_flow_scalar to 0."
   ]
  },
  {
   "cell_type": "code",
   "execution_count": null,
   "id": "d04ea547-0c18-4b4e-804c-952574ba1418",
   "metadata": {},
   "outputs": [],
   "source": [
    "time_driver.set_scenario(\n",
    "    init = {'T_cpu': 30,\n",
    "           'fan.mass_flow_scalar':0.\n",
    "           },\n",
    "    values = {\n",
    "        \"cpu.usage\": \"100 if time <20 else 0.\"}\n",
    ")"
   ]
  },
  {
   "cell_type": "code",
   "execution_count": null,
   "id": "48475b3c-c7cc-4a4f-84c3-5ea78a4b3b9b",
   "metadata": {},
   "outputs": [],
   "source": [
    "cpu.run_drivers()"
   ]
  },
  {
   "cell_type": "code",
   "execution_count": null,
   "id": "3ba1a48c-8709-4bc9-be56-db1b90429642",
   "metadata": {},
   "outputs": [],
   "source": [
    "dfD = doe.recorder.data"
   ]
  },
  {
   "cell_type": "code",
   "execution_count": null,
   "id": "c7153a66-cd2d-4564-8181-ded51bbdbad1",
   "metadata": {},
   "outputs": [],
   "source": [
    "working = [False for k in range(len(dfD))]"
   ]
  },
  {
   "cell_type": "code",
   "execution_count": null,
   "id": "ce58c92c-6f23-406d-a3ff-ca96d8dc5aa5",
   "metadata": {},
   "outputs": [],
   "source": [
    "dfD = dfD.assign(working=working)"
   ]
  },
  {
   "cell_type": "markdown",
   "id": "8088bd45-a936-4eb0-a8ed-318e596be680",
   "metadata": {},
   "source": [
    "# Creation of the final datasets"
   ]
  },
  {
   "cell_type": "markdown",
   "id": "1fff3057-c423-4e1e-8503-f8aa4daf7611",
   "metadata": {},
   "source": [
    "## Creation of the training set"
   ]
  },
  {
   "cell_type": "markdown",
   "id": "6e191dc2-c9f6-44f9-bb4c-5e9e224fc4b4",
   "metadata": {},
   "source": [
    "We drop columns that are useless in our study and create datasets to keep the data and be able to access them later without issue."
   ]
  },
  {
   "cell_type": "code",
   "execution_count": null,
   "id": "1f01b615-2bf4-49a7-9855-273d0d7ed93f",
   "metadata": {},
   "outputs": [],
   "source": [
    "dfWclean = dfW.drop(['Section', 'Status', 'Error code', 'Reference', 'cpu.usage', 'exchanger.surface'], axis=1)\n",
    "dfDclean = dfD.drop(['Section', 'Status', 'Error code', 'Reference', 'cpu.usage', 'exchanger.surface'], axis=1)"
   ]
  },
  {
   "cell_type": "markdown",
   "id": "5cb2cd2a-eaf1-43a4-be21-0024b121bd1d",
   "metadata": {},
   "source": [
    "We create a training set of the size and percentage of broken CPU wanted.   \n",
    "We first randomly take cases in each if the classes while respecting those parameters."
   ]
  },
  {
   "cell_type": "code",
   "execution_count": null,
   "id": "c9883920-24ef-424a-a8e4-f2a5bfe484b0",
   "metadata": {},
   "outputs": [],
   "source": [
    "dataset=[]\n",
    "for k in range(datasetSize):\n",
    "    if k < datasetSize*percentageBroken/100:\n",
    "        i=rd.randint(0, len(df2clean)-1)\n",
    "        dataset.append(df2clean.iloc[i])\n",
    "        df2clean=df2clean.drop(df2clean.index[i])\n",
    "    else:\n",
    "        i=rd.randint(0, len(dfclean)-1)\n",
    "        dataset.append(dfclean.iloc[i])\n",
    "        dfclean=dfclean.drop(dfclean.index[i])\n",
    "    dataset[k].name=k"
   ]
  },
  {
   "cell_type": "markdown",
   "id": "3d9a0dbf-503e-4021-ab8d-8e85080f307d",
   "metadata": {},
   "source": [
    "Then we create a pandas.DataFrame and save it in the data folder."
   ]
  },
  {
   "cell_type": "code",
   "execution_count": null,
   "id": "78ff230f-8a45-47f2-9413-266f3faa871f",
   "metadata": {},
   "outputs": [],
   "source": [
    "cols=['T_cpu', 'fan.T_air', 'fan.tension', 'working']\n",
    "dfFinal=pd.DataFrame(dataset, columns=cols)\n",
    "\n",
    "dfFinal.to_csv(f\"./data/dataset_{datasetSize}_cases_{percentageBroken}_percent_broken{end}.csv\", index=False)"
   ]
  },
  {
   "cell_type": "markdown",
   "id": "d2e478bd-26dc-447d-8b36-a5145008152b",
   "metadata": {
    "tags": []
   },
   "source": [
    "## Creation of the test set"
   ]
  },
  {
   "cell_type": "markdown",
   "id": "850f240f-da58-496b-bf67-03327c87af31",
   "metadata": {},
   "source": [
    "We drop columns that are useless in our study."
   ]
  },
  {
   "cell_type": "code",
   "execution_count": null,
   "id": "ec52e888-3d08-4aaa-86a0-a58b696461c2",
   "metadata": {},
   "outputs": [],
   "source": [
    "dfclean=df.drop(['Section', 'Status', 'Error code', 'Reference', 'cpu.usage', 'exchanger.surface'], axis=1)\n",
    "df2clean=df2.drop(['Section', 'Status', 'Error code', 'Reference', 'cpu.usage', 'exchanger.surface'], axis=1)"
   ]
  },
  {
   "cell_type": "markdown",
   "id": "3cbb6e47-f3e8-4124-b390-f906520a6ae0",
   "metadata": {},
   "source": [
    "We use all the data to create the test set, but we could also use new data."
   ]
  },
  {
   "cell_type": "code",
   "execution_count": null,
   "id": "71d7921f-ab46-46df-bb6f-8d3cbf853be9",
   "metadata": {},
   "outputs": [],
   "source": [
    "dataset=[]\n",
    "for k in range(datasetSize):\n",
    "    dataset.append(df2clean.iloc[k])\n",
    "    dataset.append(dfclean.iloc[k])\n",
    "    dataset[2*k].name=2*k\n",
    "    dataset[2*k+1].name=2*k+1"
   ]
  },
  {
   "cell_type": "markdown",
   "id": "d933ca0c-61ff-492b-a102-073afcf84ed8",
   "metadata": {},
   "source": [
    "We create a pandas.DataFrame and save it in the data folder."
   ]
  },
  {
   "cell_type": "code",
   "execution_count": null,
   "id": "79d6c0fb-0103-463f-9f04-31320f19df1f",
   "metadata": {},
   "outputs": [],
   "source": [
    "cols=['T_cpu', 'fan.T_air', 'fan.tension', 'working']\n",
    "testfinal=pd.DataFrame(dataset, columns=cols)\n",
    "testfinal.to_csv(f\"./data/test_set_{datasetSize}_cases_{percentageBroken}_percent_broken{end}.csv\", index=False)"
   ]
  }
 ],
 "metadata": {
  "kernelspec": {
   "display_name": "Python 3 (ipykernel)",
   "language": "python",
   "name": "python3"
  },
  "language_info": {
   "codemirror_mode": {
    "name": "ipython",
    "version": 3
   },
   "file_extension": ".py",
   "mimetype": "text/x-python",
   "name": "python",
   "nbconvert_exporter": "python",
   "pygments_lexer": "ipython3",
   "version": "3.9.12"
  }
 },
 "nbformat": 4,
 "nbformat_minor": 5
}
